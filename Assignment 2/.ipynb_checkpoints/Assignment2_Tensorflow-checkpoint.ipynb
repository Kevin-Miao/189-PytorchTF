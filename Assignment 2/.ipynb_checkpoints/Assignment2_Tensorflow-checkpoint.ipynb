{
 "cells": [
  {
   "cell_type": "markdown",
   "metadata": {},
   "source": [
    "# Tensorflow for Deep Learning\n",
    "\n",
    "Learning Objectives: <br> By the end of this assignment, you should be familiarized with implementing two CNN layers: convolution and pooling. You should be comfortable with researching Tensorflow documentation with the goal of discovering various code functionalities."
   ]
  },
  {
   "cell_type": "code",
   "execution_count": null,
   "metadata": {},
   "outputs": [],
   "source": [
    "# If you're using Google colab, uncomment and run the magic command below prior to importing\n",
    "# %tensorflow_version 2.x"
   ]
  },
  {
   "cell_type": "code",
   "execution_count": null,
   "metadata": {},
   "outputs": [],
   "source": [
    "import tensorflow as tf\n",
    "tf.__version__"
   ]
  },
  {
   "cell_type": "code",
   "execution_count": null,
   "metadata": {},
   "outputs": [],
   "source": [
    "import matplotlib.pyplot as plt\n",
    "import numpy as np"
   ]
  },
  {
   "cell_type": "code",
   "execution_count": null,
   "metadata": {},
   "outputs": [],
   "source": [
    "# Run cell -- you should see an image of a flower\n",
    "from sklearn.datasets import load_sample_image\n",
    "\n",
    "flower = load_sample_image('flower.jpg')\n",
    "    \n",
    "_ = plt.imshow(flower)"
   ]
  },
  {
   "cell_type": "code",
   "execution_count": null,
   "metadata": {},
   "outputs": [],
   "source": [
    "# Run cell -- dataset of one 100 x 100 x 3 RGB image\n",
    "dataset = np.array([flower], dtype = np.float32)\n",
    "\n",
    "count, height, width, channels = dataset.shape\n",
    "count, height, width, channels"
   ]
  },
  {
   "cell_type": "code",
   "execution_count": null,
   "metadata": {},
   "outputs": [],
   "source": [
    "# *** TO DO ***\n",
    "# 1) Convert dataset to tensor object\n",
    "data = pass"
   ]
  },
  {
   "cell_type": "code",
   "execution_count": null,
   "metadata": {},
   "outputs": [],
   "source": [
    "# *** TO DO ***\n",
    "# 2) Create a vertical line filter that will be applied using Tensorflow's tf.nn.conv2d function\n",
    "filter_height, filter_width = 10, 10\n",
    "channels_input, channels_output = 3, 1\n",
    "\n",
    "filters = np.zeros(shape = (pass, pass, pass, pass), dtype = np.float32)\n",
    "filters[:, 5:7, :, 0] = 1"
   ]
  },
  {
   "cell_type": "code",
   "execution_count": null,
   "metadata": {},
   "outputs": [],
   "source": [
    "# *** TO DO ***\n",
    "# 3) create a convolution layer using tf.nn.conv2d and pass in the following arguments: image we are processing, filters, and strides\n",
    "convolution = ...(..., ..., strides = [1, 10, 10, 1], padding = \"SAME\")\n",
    "output = convolution.numpy()"
   ]
  },
  {
   "cell_type": "code",
   "execution_count": null,
   "metadata": {},
   "outputs": [],
   "source": [
    "# Run cell \n",
    "plt.imshow(output[0, :, : 0], cmap = \"gray\")\n",
    "plt.show()"
   ]
  },
  {
   "cell_type": "code",
   "execution_count": null,
   "metadata": {},
   "outputs": [],
   "source": [
    "# *** To DO *** \n",
    "# 4) Using tf.keras.layers.Conv2D, create a layer with three filters, a 5x5 \n",
    "# visual receptor, and stride of 2\n",
    "convolution = ......(filters = pass, kernel_size = pass, strides = pass, padding = \"SAME\")\n",
    "output = convolution(X).numpy()"
   ]
  },
  {
   "cell_type": "code",
   "execution_count": null,
   "metadata": {},
   "outputs": [],
   "source": [
    "# *** TO DO ***\n",
    "# 5) Plot the first feature map: \n",
    "plt.imshow(output[pass, :, :, pass])\n",
    "plt.show()"
   ]
  },
  {
   "cell_type": "code",
   "execution_count": null,
   "metadata": {},
   "outputs": [],
   "source": [
    "# *** To DO ***\n",
    "# 6) Plot the second feature map: \n",
    "plt.imshow(output[pass, :, :, pass])\n",
    "plt.show()"
   ]
  },
  {
   "cell_type": "code",
   "execution_count": null,
   "metadata": {},
   "outputs": [],
   "source": [
    "# *** TO DO *** \n",
    "# 7) Plot the third feature map: \n",
    "plt.imshow(ouutput[pass, :, : pass])\n",
    "plt.show()"
   ]
  },
  {
   "cell_type": "code",
   "execution_count": null,
   "metadata": {},
   "outputs": [],
   "source": [
    "# *** TO DO *** \n",
    "# 8) Pass the flower image into the tf.nn.max_pool function below\n",
    "size = [1, 2, 2, 1]\n",
    "maxpool = tf.nn.maxpool(pass, ksize = size, strides = size, padding = \"VALID\")\n",
    "output = maxpool.numpy()\n",
    "plt.imshow(output[0].astype(np.uint8))\n",
    "plt.show()"
   ]
  },
  {
   "cell_type": "markdown",
   "metadata": {},
   "source": [
    "## Final Exercise\n",
    "Let's build a model that classifies images into 10 different categories. \n",
    "Requirements: 3 convolution layers, each followed by a maxpooling layer; 2 dense layers at the end; adam optimization"
   ]
  },
  {
   "cell_type": "code",
   "execution_count": null,
   "metadata": {},
   "outputs": [],
   "source": [
    "model = tf.keras.Sequential([\n",
    "    tf.keras.layers. ...(16, 3, padding='same', activation= pass,\n",
    "                           input_shape=(100, 100, 3)),\n",
    "    tf.keras.layers. ...,\n",
    "    tf.keras.layers. ... (32, 3, padding='same', activation= pass),\n",
    "    tf.keras.layers. ...,\n",
    "    tf.keras.layers. ... (64, 3, padding='same', activation= pass),\n",
    "    tf.keras.layers.MaxPooling2D(),\n",
    "    tf.keras.layers.Flatten(),\n",
    "    tf.keras.layers. ... (256, activation= pass),\n",
    "    tf.keras.layers. ... (128, activation= pass)\n",
    "])\n",
    "\n",
    "model.compile(optimizer = pass\n",
    "              loss = pass,\n",
    "              metrics = ['accuracy'])\n",
    "\n",
    "model.summary()"
   ]
  }
 ],
 "metadata": {
  "kernelspec": {
   "display_name": "Python 3",
   "language": "python",
   "name": "python3"
  },
  "language_info": {
   "codemirror_mode": {
    "name": "ipython",
    "version": 3
   },
   "file_extension": ".py",
   "mimetype": "text/x-python",
   "name": "python",
   "nbconvert_exporter": "python",
   "pygments_lexer": "ipython3",
   "version": "3.8.3"
  }
 },
 "nbformat": 4,
 "nbformat_minor": 4
}
