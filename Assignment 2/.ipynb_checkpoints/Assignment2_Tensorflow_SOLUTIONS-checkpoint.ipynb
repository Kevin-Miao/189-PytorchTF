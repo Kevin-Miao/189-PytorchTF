{
 "cells": [
  {
   "cell_type": "markdown",
   "metadata": {},
   "source": [
    "<img width = 130 height = 130 align = left src=\"tfkeras.jpg\">\n",
    " \n",
    "# Tensorflow for Deep Learning [SOLUTIONS]\n",
    "\n",
    "Learning Objectives: *By the end of this assignment, you should be comfortable with using Keras Sequential and Functional APIs for constructing deep learning models. You should be comfortable with debugging common modeling errors and researching Tensorflow documentation for various open-ended tasks.*"
   ]
  },
  {
   "cell_type": "markdown",
   "metadata": {},
   "source": [
    "**Keras** is a deep learning API that runs on top of Tensorflow, with **layers** and **models** as the core data structures. In Tensorflow 2.0, modeling functionalities are organized under the Keras namespace. (Optional: read about v1 --> v2 API cleanup [here](https://github.com/tensorflow/community/blob/master/rfcs/20180827-api-names.md))\n",
    "\n",
    "Keras provides a clean, approachable interface with abstractions and building blocks for easy prototyping and modeling customizations. "
   ]
  },
  {
   "cell_type": "code",
   "execution_count": 1,
   "metadata": {},
   "outputs": [
    {
     "data": {
      "text/plain": [
       "'2.3.1'"
      ]
     },
     "execution_count": 1,
     "metadata": {},
     "output_type": "execute_result"
    }
   ],
   "source": [
    "# tensorflow_version works only in colab\n",
    "try: \n",
    "    %tensorflow_version 2.x\n",
    "except Exception: \n",
    "    pass\n",
    "\n",
    "import tensorflow as tf\n",
    "tf.__version__"
   ]
  },
  {
   "cell_type": "code",
   "execution_count": 2,
   "metadata": {},
   "outputs": [],
   "source": [
    "# several examples use the mnist dataset -- hence import & split into train/valid/test sets\n",
    "\n",
    "\"\"\"\n",
    "Background on Fashion-MNIST Dataset: \n",
    "Fashion-MNIST is a dataset of Zolando's article images, containing 60k training samples and 10k test samples.  \n",
    "Each 28x28 greyscale image belongs to one of ten classes (t-shirt/top, trouser, pullover, dress, coat, sandal, \n",
    "shirt, sneaker, bag, ankle boot). Each pixel-value is an integer between 0 and 255, where higher means darker.\n",
    "\"\"\"\n",
    "from tensorflow.keras.datasets import mnist\n",
    "(x_train_full, y_train_full), (x_test,  y_test) = mnist.load_data()\n",
    "\n",
    "# amount of images to be in the validation set (80/20 split)\n",
    "split_amt = int(len(x_train_full) * .2)\n",
    "\n",
    "x_train, x_valid = x_train_full[split_amt:] / 255.0, x_train_full[:split_amt] / 255.0\n",
    "y_train, y_valid = y_train_full[split_amt:], y_train_full[:split_amt]"
   ]
  },
  {
   "cell_type": "markdown",
   "metadata": {},
   "source": [
    "## 1. Sequential API \n",
    "\n",
    "The Sequential API allows one to construct the simplest type of model: one with a linear stock of layers -- ie. layers created in a step by step fashion. \n",
    "\n",
    "In the example below, we are interested in constructing a model for 10-class classification with the Fashion-MNIST dataset. Carefully examine the code and associated comments below. "
   ]
  },
  {
   "cell_type": "code",
   "execution_count": 3,
   "metadata": {},
   "outputs": [
    {
     "name": "stdout",
     "output_type": "stream",
     "text": [
      "Model: \"sequential\"\n",
      "_________________________________________________________________\n",
      "Layer (type)                 Output Shape              Param #   \n",
      "=================================================================\n",
      "flatten (Flatten)            (None, 784)               0         \n",
      "_________________________________________________________________\n",
      "dense (Dense)                (None, 256)               200960    \n",
      "_________________________________________________________________\n",
      "dense_1 (Dense)              (None, 128)               32896     \n",
      "_________________________________________________________________\n",
      "dense_2 (Dense)              (None, 10)                1290      \n",
      "=================================================================\n",
      "Total params: 235,146\n",
      "Trainable params: 235,146\n",
      "Non-trainable params: 0\n",
      "_________________________________________________________________\n"
     ]
    }
   ],
   "source": [
    "from tensorflow.keras.models import Sequential \n",
    "from tensorflow.keras.layers import Flatten, Dense\n",
    "\n",
    "# creates a list of layer definitions\n",
    "seq_model = Sequential([ \n",
    "    # flattens 28x28 image to a 1D array \n",
    "    Flatten(input_shape=(28, 28)), \n",
    "    # fully connected hidden layer with 256 neurons & relu activation\n",
    "    Dense(256, activation=\"relu\"), \n",
    "    # fully connected hidden layer with 128 neurons & relu activation \n",
    "    Dense(128, activation=\"relu\"), \n",
    "    # fully connected output layer with 10 neurons & softmax activation \n",
    "    Dense(10, activation=\"softmax\")\n",
    "])\n",
    "\n",
    "# displays model layers (+ layer (type), output shape, param #)\n",
    "seq_model.summary()"
   ]
  },
  {
   "cell_type": "markdown",
   "metadata": {},
   "source": [
    "The next step following model instantiation is to call the *compile()* method and specify a loss function, optimizer, and metrics."
   ]
  },
  {
   "cell_type": "code",
   "execution_count": 4,
   "metadata": {},
   "outputs": [],
   "source": [
    "                  # loss -- String (name of objective function), objective function, or Loss instance.\n",
    "seq_model.compile(loss = \"sparse_categorical_crossentropy\",\n",
    "                  # optimizer -- String (name of optimizer) or optimizer instance. \n",
    "                  optimizer = \"sgd\", \n",
    "                  # list of metrics to be evaluated by the model during training and testing.\n",
    "                  # each can be a String (name of built-in function), function, or Metric instance. \n",
    "                  metrics = [\"accuracy\"])"
   ]
  },
  {
   "cell_type": "markdown",
   "metadata": {},
   "source": [
    "The final step is to train the model by calling the *fit()* method. <br> Doing so returns a *History* object, with its *History.history* attribute holding records of training loss and metrics values at every epoch. "
   ]
  },
  {
   "cell_type": "code",
   "execution_count": 5,
   "metadata": {},
   "outputs": [
    {
     "name": "stdout",
     "output_type": "stream",
     "text": [
      "Epoch 1/2\n",
      "1500/1500 [==============================] - 2s 1ms/step - loss: 0.6573 - accuracy: 0.8315 - val_loss: 0.3325 - val_accuracy: 0.9078\n",
      "Epoch 2/2\n",
      "1500/1500 [==============================] - 2s 1ms/step - loss: 0.3033 - accuracy: 0.9140 - val_loss: 0.2639 - val_accuracy: 0.9255\n"
     ]
    }
   ],
   "source": [
    "                            # input data\n",
    "seq_history = seq_model.fit(x = x_train, \n",
    "                            # input labels\n",
    "                            y = y_train, \n",
    "                            # epoch -- an iteration over the entire x and y dataset provided\n",
    "                            epochs = 2, \n",
    "                            # data on which to evaluate the loss and any model metrics at the ennd of each epoch\n",
    "                            validation_data = (x_valid, y_valid))"
   ]
  },
  {
   "cell_type": "markdown",
   "metadata": {},
   "source": [
    "Generally, fitting the \"best\" model may take a number of iterations -- possibly needing several hyperparameter adjustments! Once complete, the final step is to evaluate the model using the *evaluate()* method on the test set. Recall that the model is evaluated only ONCE on the test set. "
   ]
  },
  {
   "cell_type": "code",
   "execution_count": 6,
   "metadata": {},
   "outputs": [
    {
     "name": "stdout",
     "output_type": "stream",
     "text": [
      "313/313 [==============================] - 0s 1ms/step - loss: 33.5348 - accuracy: 0.9233\n",
      "train loss: 33.535\n",
      "train accuracy: 92.330%\n"
     ]
    }
   ],
   "source": [
    "# returns loss value & metrics values for model in test mode (default batchsize is 32)\n",
    "test_loss, test_accuracy = seq_model.evaluate(x_test, y_test)\n",
    "print(f'train loss: {test_loss:.3f}')\n",
    "print(f'train accuracy: {100 * test_accuracy:.3f}%')"
   ]
  },
  {
   "cell_type": "markdown",
   "metadata": {},
   "source": [
    "In summary, the general steps to constructing a model using the Sequential API are: <br> \n",
    "1. Sequential instantiation, with a list of layers\n",
    "2. Compiling the model, indicating the desired loss function, optimizer, and metric(s)\n",
    "3. Fitting the model with the dataset\n",
    "4. Evaluating the model on the test set\n",
    "\n",
    "While the Sequential API is easy to use, we cannot create models that share layers, have branches, nor have multiple inputs/outputs. However, we *can* with the Functional API. "
   ]
  },
  {
   "cell_type": "markdown",
   "metadata": {},
   "source": [
    "#### TO DO: Part 1 Questions\n",
    "You may consult Tensorflow documentation and online sources for any of the questions below. <br>\n",
    "a) Describe the architecture of *seq_model* above. (ie. how many/what types of layers? what is a dense? flatten?) <br>\n",
    "\n",
    "The model's \"Flatten\" layer flattens the image inputs. Without it, there would be an error about the shape of the data. (Rule of Thumb: first layer of network should have the same shape as your input data) The model represents a neural network with three densely connected layers, with 256, 128, and 10 neurons respectively. Densely connected layers are fully connected neural network layers and implement the operation *activation(dot(input, kernel) + bias)*. \n",
    "\n",
    "b) What happens if you do not specify an activation function for any one of the dense layers? <br>\n",
    "\n",
    "If nothing is specified, then no activation is applied. (ie. \"linear activation\")\n",
    "\n",
    "c) The three dense layers in *seq_model* have 200960, 32896, and 1290 trainable parameters respectively. Based on your knowledge of densely connected neural networks, explain how these numbers are derived. <br> \n",
    "\n",
    "They are derived from the number of weight and bias parameters. (In terms of matrix multiplication, an (n x b) dimensional matrix multiplied by a (b x a) dimentional matrix results in a (n x a) dimentional matrix. \"None\" represents n because the model does not know the size of the dataset until it is fed into it. <br> \n",
    "200960 = (784 * 256) + 256 <br>\n",
    "32896 = (256 * 128) + 128 <br>\n",
    "1290 = (128 * 10) + 10 <br>\n",
    "\n",
    "d) Why is the loss function sparse categorical crossentropy rather than just categorical crossentropy? <br>\n",
    "\n",
    "Lables are integer values, rather than one hot representations. \n",
    "\n",
    "e) What happens if you do not specify a number of epochs in *fit()*? \n",
    "\n",
    "By default, running *fit()* will train for 1 epoch. "
   ]
  },
  {
   "cell_type": "markdown",
   "metadata": {},
   "source": [
    "## 2. Functional API - Pt1\n",
    "\n",
    "*func_model* below contains the same architecture as *seq_model*, but uses the Functional API. Carefully examine the code below and read the comments. Compare it with the Sequential syntax above. What differences and similarities do you notice? "
   ]
  },
  {
   "cell_type": "code",
   "execution_count": 7,
   "metadata": {},
   "outputs": [
    {
     "name": "stdout",
     "output_type": "stream",
     "text": [
      "Model: \"functional_1\"\n",
      "_________________________________________________________________\n",
      "Layer (type)                 Output Shape              Param #   \n",
      "=================================================================\n",
      "input_1 (InputLayer)         [(None, 28, 28)]          0         \n",
      "_________________________________________________________________\n",
      "flatten_1 (Flatten)          (None, 784)               0         \n",
      "_________________________________________________________________\n",
      "dense_3 (Dense)              (None, 256)               200960    \n",
      "_________________________________________________________________\n",
      "dense_4 (Dense)              (None, 128)               32896     \n",
      "_________________________________________________________________\n",
      "dense_5 (Dense)              (None, 10)                1290      \n",
      "=================================================================\n",
      "Total params: 235,146\n",
      "Trainable params: 235,146\n",
      "Non-trainable params: 0\n",
      "_________________________________________________________________\n"
     ]
    }
   ],
   "source": [
    "from tensorflow.keras.layers import Input\n",
    "from tensorflow.keras.models import Model \n",
    "\n",
    "# define input tensor\n",
    "input_layer = Input(shape = (28, 28))\n",
    "\n",
    "# stack layers using the syntax: current_layer()(previous_layer)\n",
    "flattened = Flatten()(input_layer)\n",
    "fc1 = Dense(256, activation = \"relu\")(flattened)\n",
    "fc2 = Dense(128, activation = \"relu\")(fc1)\n",
    "predictions = Dense(10, activation = \"softmax\")(fc2)\n",
    "\n",
    "# define model object -- specify input and outputs\n",
    "func_model = Model(inputs = [input_layer], outputs = [predictions])\n",
    "\n",
    "# displays model layers (+ layer (type), output shape, param #)\n",
    "func_model.summary()"
   ]
  },
  {
   "cell_type": "markdown",
   "metadata": {},
   "source": [
    "As with the Sequential model, we call the *compile()* method and specify a loss function, optimizer, and metrics. Then, call the *fit()* method.  "
   ]
  },
  {
   "cell_type": "code",
   "execution_count": 8,
   "metadata": {},
   "outputs": [
    {
     "name": "stdout",
     "output_type": "stream",
     "text": [
      "Epoch 1/20\n",
      "1500/1500 [==============================] - 2s 1ms/step - loss: 0.6684 - accuracy: 0.8291 - val_loss: 0.3350 - val_accuracy: 0.9076\n",
      "Epoch 2/20\n",
      "1500/1500 [==============================] - 1s 966us/step - loss: 0.3058 - accuracy: 0.9132 - val_loss: 0.2662 - val_accuracy: 0.9226\n",
      "Epoch 3/20\n",
      "1500/1500 [==============================] - 2s 1ms/step - loss: 0.2523 - accuracy: 0.9275 - val_loss: 0.2293 - val_accuracy: 0.9343\n",
      "Epoch 4/20\n",
      "1500/1500 [==============================] - 2s 1ms/step - loss: 0.2179 - accuracy: 0.9377 - val_loss: 0.2039 - val_accuracy: 0.9419\n",
      "Epoch 5/20\n",
      "1500/1500 [==============================] - 1s 963us/step - loss: 0.1919 - accuracy: 0.9457 - val_loss: 0.1850 - val_accuracy: 0.9466\n",
      "Epoch 6/20\n",
      "1500/1500 [==============================] - 2s 1ms/step - loss: 0.1705 - accuracy: 0.9507 - val_loss: 0.1681 - val_accuracy: 0.9496\n",
      "Epoch 7/20\n",
      "1500/1500 [==============================] - 1s 975us/step - loss: 0.1538 - accuracy: 0.9557 - val_loss: 0.1608 - val_accuracy: 0.9525\n",
      "Epoch 8/20\n",
      "1500/1500 [==============================] - 2s 1ms/step - loss: 0.1395 - accuracy: 0.9603 - val_loss: 0.1483 - val_accuracy: 0.9558\n",
      "Epoch 9/20\n",
      "1500/1500 [==============================] - 2s 1ms/step - loss: 0.1271 - accuracy: 0.9637 - val_loss: 0.1463 - val_accuracy: 0.9582\n",
      "Epoch 10/20\n",
      "1500/1500 [==============================] - 2s 1ms/step - loss: 0.1166 - accuracy: 0.9663 - val_loss: 0.1320 - val_accuracy: 0.9611\n",
      "Epoch 11/20\n",
      "1500/1500 [==============================] - 2s 1ms/step - loss: 0.1073 - accuracy: 0.9693 - val_loss: 0.1270 - val_accuracy: 0.9629\n",
      "Epoch 12/20\n",
      "1500/1500 [==============================] - 2s 1ms/step - loss: 0.0992 - accuracy: 0.9720 - val_loss: 0.1246 - val_accuracy: 0.9635\n",
      "Epoch 13/20\n",
      "1500/1500 [==============================] - 2s 1ms/step - loss: 0.0924 - accuracy: 0.9737 - val_loss: 0.1170 - val_accuracy: 0.9645\n",
      "Epoch 14/20\n",
      "1500/1500 [==============================] - 2s 1ms/step - loss: 0.0860 - accuracy: 0.9764 - val_loss: 0.1123 - val_accuracy: 0.9666\n",
      "Epoch 15/20\n",
      "1500/1500 [==============================] - 2s 1ms/step - loss: 0.0803 - accuracy: 0.9776 - val_loss: 0.1092 - val_accuracy: 0.9655\n",
      "Epoch 16/20\n",
      "1500/1500 [==============================] - 2s 1ms/step - loss: 0.0753 - accuracy: 0.9789 - val_loss: 0.1073 - val_accuracy: 0.9675\n",
      "Epoch 17/20\n",
      "1500/1500 [==============================] - 2s 1ms/step - loss: 0.0707 - accuracy: 0.9805 - val_loss: 0.1046 - val_accuracy: 0.9676\n",
      "Epoch 18/20\n",
      "1500/1500 [==============================] - 2s 1ms/step - loss: 0.0660 - accuracy: 0.9814 - val_loss: 0.1009 - val_accuracy: 0.9693\n",
      "Epoch 19/20\n",
      "1500/1500 [==============================] - 2s 1ms/step - loss: 0.0623 - accuracy: 0.9836 - val_loss: 0.0994 - val_accuracy: 0.9697\n",
      "Epoch 20/20\n",
      "1500/1500 [==============================] - 2s 1ms/step - loss: 0.0584 - accuracy: 0.9839 - val_loss: 0.0956 - val_accuracy: 0.9722\n"
     ]
    }
   ],
   "source": [
    "func_model.compile(loss = \"sparse_categorical_crossentropy\", \n",
    "                   optimizer = \"sgd\", \n",
    "                   metrics = [\"accuracy\"])\n",
    "\n",
    "func_history = func_model.fit(x_train, \n",
    "                              y_train, \n",
    "                              epochs = 20, \n",
    "                              validation_data = (x_valid, y_valid))"
   ]
  },
  {
   "cell_type": "markdown",
   "metadata": {},
   "source": [
    "Finally, we evaluate the model on the test set. "
   ]
  },
  {
   "cell_type": "code",
   "execution_count": 9,
   "metadata": {},
   "outputs": [
    {
     "name": "stdout",
     "output_type": "stream",
     "text": [
      "313/313 [==============================] - 0s 1ms/step - loss: 13.7954 - accuracy: 0.9713\n",
      "train loss: 13.795\n",
      "train accuracy: 97.130%\n"
     ]
    }
   ],
   "source": [
    "# returns loss value & metrics values for model in test mode (default batchsize is 32)\n",
    "test_loss, test_accuracy = func_model.evaluate(x_test, y_test)\n",
    "print(f'train loss: {test_loss:.3f}')\n",
    "print(f'train accuracy: {100 * test_accuracy:.3f}%')"
   ]
  },
  {
   "cell_type": "markdown",
   "metadata": {},
   "source": [
    "In summary, the general steps to constructing a model using the Functional API are: <br>\n",
    "1. explicitly defining the input layer\n",
    "2. defining model layers, connecting each layer using Python functional syntax\n",
    "3. defining the model by calling the model object and giving it the input and output layers\n",
    "4. compiling --> fitting (several iterations) --> evaluating\n",
    "\n",
    "#### TO DO: Part 2 Questions \n",
    "You may consult Tensorflow documentation and online sources for the questions below. <br>\n",
    "a) In the context of modeling, what are the advantage(s) of using the functional syntax? <br>\n",
    "\n",
    "Functional syntax gives you more flexibility with customizing deep learning models. For example, you can have multiple inputs and/or multiple outputs and parallel layers. \n",
    "\n",
    "b) Notice that when defining the model object, the parameter names are plural (inputs vs input, outputs vs output). Why is this the case? <br>\n",
    "\n",
    "Parameter names are plural because it can expect multiple inputs or outputs in a list. \n",
    "\n",
    "c) Refit either *seq_model* or *func_model*, but with epochs = 20. Then evaluate the corresponding metrics in the following cell and plot two double-line graphs. You should color code your lines and import any necessary libraries: <br>\n",
    "1. train & validation loss for every epoch \n",
    "2. train & validation accuracy for every epoch  \n",
    "\n",
    "Based on your graph(s), at how many epochs would you stop training? ( in section 3, you will work with callbacks for early stopping once a desired metric value is reached! ) <br>\n",
    "\n",
    "(answer varies) ~ 4-7"
   ]
  },
  {
   "cell_type": "code",
   "execution_count": 10,
   "metadata": {},
   "outputs": [
    {
     "name": "stdout",
     "output_type": "stream",
     "text": [
      "<class 'dict'> <class 'dict'>\n"
     ]
    },
    {
     "data": {
      "image/png": "[encoded data removed]",
      "text/plain": [
       "<Figure size 432x288 with 1 Axes>"
      ]
     },
     "metadata": {
      "needs_background": "light"
     },
     "output_type": "display_data"
    },
    {
     "data": {
      "image/png": "[encoded data removed]",
      "text/plain": [
       "<Figure size 432x288 with 1 Axes>"
      ]
     },
     "metadata": {
      "needs_background": "light"
     },
     "output_type": "display_data"
    }
   ],
   "source": [
    "# select one\n",
    "seq_metrics = seq_history.history\n",
    "func_metrics = func_history.history\n",
    "\n",
    "print(type(seq_metrics), type(func_metrics))\n",
    "\n",
    "\"\"\" ### your code below ### \"\"\"\n",
    "import matplotlib.pyplot as plt\n",
    "\n",
    "train_loss, val_loss = func_metrics['loss'], func_metrics['val_loss']\n",
    "train_acc, val_acc = func_metrics['accuracy'], func_metrics['val_accuracy']\n",
    "\n",
    "plt.plot(train_loss)\n",
    "plt.plot(val_loss)\n",
    "plt.title('Loss per Epoch')\n",
    "plt.legend(('train', 'valid'))\n",
    "plt.show()\n",
    "\n",
    "plt.plot(train_acc)\n",
    "plt.plot(val_acc)\n",
    "plt.title('Loss per Epoch')\n",
    "plt.legend(('train', 'valid'))\n",
    "plt.show()"
   ]
  },
  {
   "cell_type": "markdown",
   "metadata": {},
   "source": [
    "## 3. Modeling Hacks"
   ]
  },
  {
   "cell_type": "markdown",
   "metadata": {},
   "source": [
    "#### 3.1 Callbacks\n",
    "When fitting your model with a specified number of epochs, you can automate the prevention of further training when certain conditions are met -- ex. when accuracy or loss reaches a certain threshold, when accuracy hasn't improved after a specified number of epochs, etc. \n",
    "\n",
    "The training loop supports *callbacks* such that after every epoch, there is a callback to a code function that evaluates your metrics and decides whether to continue or stop training. \n",
    "\n",
    "Carefully examine the code and associated comments below. "
   ]
  },
  {
   "cell_type": "code",
   "execution_count": 11,
   "metadata": {},
   "outputs": [
    {
     "name": "stdout",
     "output_type": "stream",
     "text": [
      "Epoch 1/50\n",
      "1500/1500 [==============================] - 1s 823us/step - loss: 0.6936 - accuracy: 0.8314\n",
      "Epoch 2/50\n",
      "1500/1500 [==============================] - 1s 785us/step - loss: 0.3522 - accuracy: 0.9030\n",
      "Epoch 3/50\n",
      "1500/1500 [==============================] - 1s 764us/step - loss: 0.3001 - accuracy: 0.9158\n",
      "Epoch 4/50\n",
      "1500/1500 [==============================] - 1s 786us/step - loss: 0.2690 - accuracy: 0.9257\n",
      "Epoch 5/50\n",
      "1500/1500 [==============================] - 1s 954us/step - loss: 0.2463 - accuracy: 0.9323\n",
      "Epoch 6/50\n",
      "1500/1500 [==============================] - 1s 918us/step - loss: 0.2273 - accuracy: 0.9372\n",
      "Epoch 7/50\n",
      "1500/1500 [==============================] - 1s 846us/step - loss: 0.2119 - accuracy: 0.9421\n",
      "Epoch 8/50\n",
      "1500/1500 [==============================] - 1s 871us/step - loss: 0.1980 - accuracy: 0.9455\n",
      "Epoch 9/50\n",
      "1500/1500 [==============================] - 1s 840us/step - loss: 0.1864 - accuracy: 0.9482\n",
      "Epoch 10/50\n",
      "1454/1500 [============================>.] - ETA: 0s - loss: 0.1762 - accuracy: 0.9514\n",
      "At least 95% accuracy reached! Training stopped.\n",
      "1500/1500 [==============================] - 1s 830us/step - loss: 0.1758 - accuracy: 0.9516\n"
     ]
    }
   ],
   "source": [
    "# imports abstract base class used to build new callbacks\n",
    "from tensorflow.keras.callbacks import Callback\n",
    "\n",
    "class myCallback(Callback): \n",
    "    # on_epoch_end -- called whenever an epoch ends\n",
    "    # sends a log object that contains information about the current training state\n",
    "    def on_epoch_end(self, epoch, logs = {}): \n",
    "        # queries the accuracy metric, checking if it is greater than or equal to 0.95\n",
    "        # (change 'accuracy' to 'acc' if you get a NoneType error)\n",
    "        if (logs.get('accuracy') >= 0.95): \n",
    "            print(\"\\nAt least 95% accuracy reached! Training stopped.\")\n",
    "            self.model.stop_training = True\n",
    "            \n",
    "# class instantiation \n",
    "callbacks = myCallback()\n",
    "\n",
    "# creates new Sequential model \n",
    "def create_model(): \n",
    "    model = Sequential([\n",
    "        Flatten(input_shape=(28, 28)), \n",
    "        Dense(256, activation=\"relu\"), \n",
    "        Dense(10, activation=\"softmax\")\n",
    "    ])\n",
    "    model.compile(loss=\"sparse_categorical_crossentropy\",\n",
    "                  optimizer=\"sgd\", \n",
    "                  metrics=[\"accuracy\"])\n",
    "    return model\n",
    "\n",
    "# in my_model.fit(), use the callbacks parameter to pass the instance above in a list\n",
    "that_model = create_model()\n",
    "that_model.fit(x_train, y_train, epochs = 50, callbacks = [callbacks]);"
   ]
  },
  {
   "cell_type": "markdown",
   "metadata": {},
   "source": [
    "#### TO DO: Callbacks Exercise\n",
    "\n",
    "Refit *func_model* such that the classifier trains to a loss of 0.1 or below -- training should stop once loss is at or below 0.1. \n",
    "\n",
    "Print \"0.1 loss reached! Training stopped\" when desired loss is reached."
   ]
  },
  {
   "cell_type": "code",
   "execution_count": 12,
   "metadata": {},
   "outputs": [
    {
     "name": "stdout",
     "output_type": "stream",
     "text": [
      "Epoch 1/50\n",
      "1500/1500 [==============================] - 1s 799us/step - loss: 0.6788 - accuracy: 0.8357\n",
      "Epoch 2/50\n",
      "1500/1500 [==============================] - 1s 756us/step - loss: 0.3510 - accuracy: 0.9030\n",
      "Epoch 3/50\n",
      "1500/1500 [==============================] - 1s 817us/step - loss: 0.3000 - accuracy: 0.9155\n",
      "Epoch 4/50\n",
      "1500/1500 [==============================] - 1s 784us/step - loss: 0.2693 - accuracy: 0.9247\n",
      "Epoch 5/50\n",
      "1500/1500 [==============================] - 1s 786us/step - loss: 0.2468 - accuracy: 0.9308\n",
      "Epoch 6/50\n",
      "1500/1500 [==============================] - 1s 769us/step - loss: 0.2283 - accuracy: 0.9365\n",
      "Epoch 7/50\n",
      "1500/1500 [==============================] - 1s 764us/step - loss: 0.2125 - accuracy: 0.9408\n",
      "Epoch 8/50\n",
      "1500/1500 [==============================] - 1s 774us/step - loss: 0.1989 - accuracy: 0.9445\n",
      "Epoch 9/50\n",
      "1500/1500 [==============================] - 1s 774us/step - loss: 0.1872 - accuracy: 0.9473\n",
      "Epoch 10/50\n",
      "1500/1500 [==============================] - 1s 818us/step - loss: 0.1766 - accuracy: 0.9509\n",
      "Epoch 11/50\n",
      "1500/1500 [==============================] - 1s 789us/step - loss: 0.1671 - accuracy: 0.9539\n",
      "Epoch 12/50\n",
      "1500/1500 [==============================] - 1s 785us/step - loss: 0.1586 - accuracy: 0.9561\n",
      "Epoch 13/50\n",
      "1500/1500 [==============================] - 1s 800us/step - loss: 0.1509 - accuracy: 0.9589\n",
      "Epoch 14/50\n",
      "1500/1500 [==============================] - 1s 801us/step - loss: 0.1439 - accuracy: 0.9603\n",
      "Epoch 15/50\n",
      "1500/1500 [==============================] - 1s 797us/step - loss: 0.1376 - accuracy: 0.9623\n",
      "Epoch 16/50\n",
      "1500/1500 [==============================] - 1s 809us/step - loss: 0.1315 - accuracy: 0.9639\n",
      "Epoch 17/50\n",
      "1500/1500 [==============================] - 1s 811us/step - loss: 0.1259 - accuracy: 0.9654\n",
      "Epoch 18/50\n",
      "1500/1500 [==============================] - 1s 828us/step - loss: 0.1210 - accuracy: 0.9670\n",
      "Epoch 19/50\n",
      "1500/1500 [==============================] - 1s 802us/step - loss: 0.1162 - accuracy: 0.9689\n",
      "Epoch 20/50\n",
      "1500/1500 [==============================] - 1s 782us/step - loss: 0.1116 - accuracy: 0.9700\n",
      "Epoch 21/50\n",
      "1500/1500 [==============================] - 1s 863us/step - loss: 0.1078 - accuracy: 0.9712\n",
      "Epoch 22/50\n",
      "1500/1500 [==============================] - 1s 874us/step - loss: 0.1039 - accuracy: 0.9726\n",
      "Epoch 23/50\n",
      "1500/1500 [==============================] - 1s 815us/step - loss: 0.1002 - accuracy: 0.9739\n",
      "Epoch 24/50\n",
      "1471/1500 [============================>.] - ETA: 0s - loss: 0.0970 - accuracy: 0.9741\n",
      "0.1 loss reached! Training stopped\n",
      "1500/1500 [==============================] - 1s 822us/step - loss: 0.0967 - accuracy: 0.9742\n"
     ]
    }
   ],
   "source": [
    "class myCallback(Callback):\n",
    "    def on_epoch_end(self, epoch, logs = {}): \n",
    "        if (logs.get('loss') <= 0.1): \n",
    "            print(\"\\n0.1 loss reached! Training stopped\")\n",
    "            self.model.stop_training = True\n",
    "            \n",
    "callbacks = myCallback()\n",
    "\n",
    "this_model = create_model()\n",
    "this_model.fit(x_train, y_train, epochs = 50, callbacks = [callbacks]);"
   ]
  },
  {
   "cell_type": "markdown",
   "metadata": {},
   "source": [
    "## 3. Functional API -- Pt2\n",
    "\n",
    "As hinted, the Functional API allows you to create layers that are impossible with the Sequential API -- ex. parallel layers, splitting, concatenating, etc. We will explore these exclusive functionalities by ...\n",
    "\n",
    "implement a siamese or inception network - let them fill in a base model and final model "
   ]
  },
  {
   "cell_type": "markdown",
   "metadata": {},
   "source": [
    "## 5. debugging"
   ]
  },
  {
   "cell_type": "markdown",
   "metadata": {},
   "source": [
    "## 6. exploring documentation exercises"
   ]
  },
  {
   "cell_type": "markdown",
   "metadata": {},
   "source": [
    "## 7 ethics of using tensorflow (maybe move this to assignment 1) "
   ]
  },
  {
   "cell_type": "code",
   "execution_count": null,
   "metadata": {},
   "outputs": [],
   "source": []
  }
 ],
 "metadata": {
  "kernelspec": {
   "display_name": "Python 3",
   "language": "python",
   "name": "python3"
  },
  "language_info": {
   "codemirror_mode": {
    "name": "ipython",
    "version": 3
   },
   "file_extension": ".py",
   "mimetype": "text/x-python",
   "name": "python",
   "nbconvert_exporter": "python",
   "pygments_lexer": "ipython3",
   "version": "3.8.3"
  }
 },
 "nbformat": 4,
 "nbformat_minor": 4
}
