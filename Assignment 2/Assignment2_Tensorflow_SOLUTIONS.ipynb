{
 "cells": [
  {
   "cell_type": "markdown",
   "metadata": {},
   "source": [
    "<img width = 130 height = 130 align = left src=\"tfkeras.jpg\">\n",
    " \n",
    "# Tensorflow for Deep Learning [SOLUTIONS]\n",
    "\n",
    "Learning Objectives: *By the end of this assignment, you should be comfortable with using Keras Sequential and Functional APIs for constructing deep learning models. You should be comfortable with debugging common modeling errors and researching Tensorflow documentation for various open-ended tasks.*"
   ]
  },
  {
   "cell_type": "markdown",
   "metadata": {},
   "source": [
    "**Keras** is a deep learning API that runs on top of Tensorflow, with **layers** and **models** as the core data structures. In Tensorflow 2.0, modeling functionalities are organized under the Keras namespace. (Optional: read about v1 --> v2 API cleanup [here](https://github.com/tensorflow/community/blob/master/rfcs/20180827-api-names.md))\n",
    "\n",
    "Keras provides a clean, approachable interface with abstractions and building blocks for easy prototyping and modeling customizations. "
   ]
  },
  {
   "cell_type": "code",
   "execution_count": 1,
   "metadata": {},
   "outputs": [
    {
     "data": {
      "text/plain": [
       "'2.3.1'"
      ]
     },
     "execution_count": 1,
     "metadata": {},
     "output_type": "execute_result"
    }
   ],
   "source": [
    "# tensorflow_version works only in colab\n",
    "try: \n",
    "    %tensorflow_version 2.x\n",
    "except Exception: \n",
    "    pass\n",
    "\n",
    "import tensorflow as tf\n",
    "tf.__version__"
   ]
  },
  {
   "cell_type": "code",
   "execution_count": 2,
   "metadata": {},
   "outputs": [],
   "source": [
    "# several examples use the mnist dataset -- hence import & split into train/valid/test sets\n",
    "\n",
    "\"\"\"\n",
    "Background on Fashion-MNIST Dataset: \n",
    "Fashion-MNIST is a dataset of Zolando's article images, containing 60k training samples and 10k test samples.  \n",
    "Each 28x28 greyscale image belongs to one of ten classes (t-shirt/top, trouser, pullover, dress, coat, sandal, \n",
    "shirt, sneaker, bag, ankle boot). Each pixel-value is an integer between 0 and 255, where higher means darker.\n",
    "\"\"\"\n",
    "from tensorflow.keras.datasets import mnist\n",
    "(x_train_full, y_train_full), (x_test,  y_test) = mnist.load_data()\n",
    "x_train_full = x_train_full.reshape(60000, 28, 28, 1)\n",
    "x_test = x_test.reshape(10000, 28, 28, 1)\n",
    "\n",
    "# amount of images to be in the validation set (80/20 split)\n",
    "split_amt = int(len(x_train_full) * .2)\n",
    "\n",
    "x_train, x_valid = x_train_full[split_amt:] / 255.0, x_train_full[:split_amt] / 255.0\n",
    "y_train, y_valid = y_train_full[split_amt:], y_train_full[:split_amt]"
   ]
  },
  {
   "cell_type": "markdown",
   "metadata": {},
   "source": [
    "## 1. Sequential API - Basics\n",
    "\n",
    "The Sequential API allows one to construct the simplest type of model: one with a linear stock of layers -- ie. layers created in a step by step fashion. \n",
    "\n",
    "In the example below, we are interested in constructing a model for 10-class classification with the Fashion-MNIST dataset. Carefully examine the code and associated comments below. "
   ]
  },
  {
   "cell_type": "code",
   "execution_count": 3,
   "metadata": {},
   "outputs": [
    {
     "name": "stdout",
     "output_type": "stream",
     "text": [
      "Model: \"sequential\"\n",
      "_________________________________________________________________\n",
      "Layer (type)                 Output Shape              Param #   \n",
      "=================================================================\n",
      "conv2d (Conv2D)              (None, 26, 26, 16)        160       \n",
      "_________________________________________________________________\n",
      "max_pooling2d (MaxPooling2D) (None, 13, 13, 16)        0         \n",
      "_________________________________________________________________\n",
      "conv2d_1 (Conv2D)            (None, 11, 11, 32)        4640      \n",
      "_________________________________________________________________\n",
      "max_pooling2d_1 (MaxPooling2 (None, 5, 5, 32)          0         \n",
      "_________________________________________________________________\n",
      "flatten (Flatten)            (None, 800)               0         \n",
      "_________________________________________________________________\n",
      "dense (Dense)                (None, 256)               205056    \n",
      "_________________________________________________________________\n",
      "dense_1 (Dense)              (None, 128)               32896     \n",
      "_________________________________________________________________\n",
      "dense_2 (Dense)              (None, 10)                1290      \n",
      "=================================================================\n",
      "Total params: 244,042\n",
      "Trainable params: 244,042\n",
      "Non-trainable params: 0\n",
      "_________________________________________________________________\n"
     ]
    }
   ],
   "source": [
    "from tensorflow.keras.models import Sequential \n",
    "from tensorflow.keras.layers import Conv2D, MaxPooling2D, Flatten, Dense\n",
    "\n",
    "# creates a list of layer definitions\n",
    "seq_model = Sequential([ \n",
    "    # generate 16 3x3 filters & relu activation \n",
    "    Conv2D(16, (3, 3), activation=\"relu\", input_shape=(28, 28, 1)), \n",
    "    # 2x2 max-pooling -- every four pixels, the largest value survives\n",
    "    MaxPooling2D(2, 2), \n",
    "    # generate 32 3x3 filters & relu activation \n",
    "    Conv2D(32, (3, 3), activation=\"relu\"), \n",
    "    # 2x2 max-pooling -- every four pixels, the largest value survives\n",
    "    MaxPooling2D(2, 2), \n",
    "    # flattens to 1D array \n",
    "    Flatten(), \n",
    "    # fully connected hidden layer with 256 neurons & relu activation\n",
    "    Dense(256, activation=\"relu\"), \n",
    "    # fully connected hidden layer with 128 neurons & relu activation \n",
    "    Dense(128, activation=\"relu\"), \n",
    "    # fully connected output layer with 10 neurons & softmax activation \n",
    "    Dense(10, activation=\"softmax\")\n",
    "])\n",
    "\n",
    "# displays model layers (+ layer (type), output shape, param #)\n",
    "seq_model.summary()"
   ]
  },
  {
   "cell_type": "markdown",
   "metadata": {},
   "source": [
    "The next step following model instantiation is to call the *compile()* method and specify a loss function, optimizer, and metrics."
   ]
  },
  {
   "cell_type": "code",
   "execution_count": 4,
   "metadata": {},
   "outputs": [],
   "source": [
    "                  # loss -- String (name of objective function), objective function, or Loss instance.\n",
    "seq_model.compile(loss = \"sparse_categorical_crossentropy\",\n",
    "                  # optimizer -- String (name of optimizer) or optimizer instance. \n",
    "                  optimizer = \"sgd\", \n",
    "                  # list of metrics to be evaluated by the model during training and testing.\n",
    "                  # each can be a String (name of built-in function), function, or Metric instance. \n",
    "                  metrics = [\"accuracy\"])"
   ]
  },
  {
   "cell_type": "markdown",
   "metadata": {},
   "source": [
    "The final step is to train the model by calling the *fit()* method. <br> Doing so returns a *History* object, with its *History.history* attribute holding records of training loss and metrics values at every epoch. "
   ]
  },
  {
   "cell_type": "code",
   "execution_count": 5,
   "metadata": {},
   "outputs": [
    {
     "name": "stdout",
     "output_type": "stream",
     "text": [
      "Epoch 1/15\n",
      "1500/1500 [==============================] - 11s 7ms/step - loss: 0.5924 - accuracy: 0.8262 - val_loss: 0.1903 - val_accuracy: 0.9393\n",
      "Epoch 2/15\n",
      "1500/1500 [==============================] - 12s 8ms/step - loss: 0.1443 - accuracy: 0.9564 - val_loss: 0.1182 - val_accuracy: 0.9644\n",
      "Epoch 3/15\n",
      "1500/1500 [==============================] - 11s 7ms/step - loss: 0.1001 - accuracy: 0.9697 - val_loss: 0.0990 - val_accuracy: 0.9707\n",
      "Epoch 4/15\n",
      "1500/1500 [==============================] - 13s 9ms/step - loss: 0.0800 - accuracy: 0.9756 - val_loss: 0.0855 - val_accuracy: 0.9734\n",
      "Epoch 5/15\n",
      "1500/1500 [==============================] - 13s 8ms/step - loss: 0.0659 - accuracy: 0.9800 - val_loss: 0.0764 - val_accuracy: 0.9760\n",
      "Epoch 6/15\n",
      "1500/1500 [==============================] - 13s 8ms/step - loss: 0.0582 - accuracy: 0.9821 - val_loss: 0.0792 - val_accuracy: 0.9751\n",
      "Epoch 7/15\n",
      "1500/1500 [==============================] - 14s 10ms/step - loss: 0.0521 - accuracy: 0.9835 - val_loss: 0.0686 - val_accuracy: 0.9783\n",
      "Epoch 8/15\n",
      "1500/1500 [==============================] - 13s 9ms/step - loss: 0.0458 - accuracy: 0.9858 - val_loss: 0.0643 - val_accuracy: 0.9805\n",
      "Epoch 9/15\n",
      "1500/1500 [==============================] - 12s 8ms/step - loss: 0.0414 - accuracy: 0.9870 - val_loss: 0.0562 - val_accuracy: 0.9827\n",
      "Epoch 10/15\n",
      "1500/1500 [==============================] - 13s 9ms/step - loss: 0.0379 - accuracy: 0.9879 - val_loss: 0.0501 - val_accuracy: 0.9846\n",
      "Epoch 11/15\n",
      "1500/1500 [==============================] - 12s 8ms/step - loss: 0.0339 - accuracy: 0.9896 - val_loss: 0.0564 - val_accuracy: 0.9826\n",
      "Epoch 12/15\n",
      "1500/1500 [==============================] - 13s 9ms/step - loss: 0.0313 - accuracy: 0.9904 - val_loss: 0.0519 - val_accuracy: 0.9837\n",
      "Epoch 13/15\n",
      "1500/1500 [==============================] - 15s 10ms/step - loss: 0.0281 - accuracy: 0.9912 - val_loss: 0.0507 - val_accuracy: 0.9851\n",
      "Epoch 14/15\n",
      "1500/1500 [==============================] - 14s 9ms/step - loss: 0.0259 - accuracy: 0.9917 - val_loss: 0.0519 - val_accuracy: 0.9854\n",
      "Epoch 15/15\n",
      "1500/1500 [==============================] - 12s 8ms/step - loss: 0.0239 - accuracy: 0.9925 - val_loss: 0.0518 - val_accuracy: 0.9843\n"
     ]
    }
   ],
   "source": [
    "                            # input data\n",
    "seq_history = seq_model.fit(x = x_train, \n",
    "                            # input labels\n",
    "                            y = y_train, \n",
    "                            # epoch -- an iteration over the entire x and y dataset provided\n",
    "                            epochs = 15, \n",
    "                            # data on which to evaluate the loss and any model metrics at the ennd of each epoch\n",
    "                            validation_data = (x_valid, y_valid))"
   ]
  },
  {
   "cell_type": "markdown",
   "metadata": {},
   "source": [
    "Generally, fitting the \"best\" model may take a number of iterations -- possibly needing several hyperparameter adjustments! Once complete, the final step is to evaluate the model using the *evaluate()* method on the test set. Recall that the model is evaluated only ONCE on the test set. "
   ]
  },
  {
   "cell_type": "code",
   "execution_count": 6,
   "metadata": {},
   "outputs": [
    {
     "name": "stdout",
     "output_type": "stream",
     "text": [
      "313/313 [==============================] - 1s 2ms/step - loss: 6.6248 - accuracy: 0.9879\n",
      "train loss: 6.625\n",
      "train accuracy: 98.790%\n"
     ]
    }
   ],
   "source": [
    "# returns loss value & metrics values for model in test mode (default batchsize is 32)\n",
    "test_loss, test_accuracy = seq_model.evaluate(x_test, y_test)\n",
    "print(f'train loss: {test_loss:.3f}')\n",
    "print(f'train accuracy: {100 * test_accuracy:.3f}%')"
   ]
  },
  {
   "cell_type": "markdown",
   "metadata": {},
   "source": [
    "In summary, the general steps to constructing a model using the Sequential API are: <br> \n",
    "1. Sequential instantiation, with a list of layers\n",
    "2. Compiling the model, indicating the desired loss function, optimizer, and metric(s)\n",
    "3. Fitting the model with the dataset\n",
    "4. Evaluating the model on the test set\n",
    "\n",
    "While the Sequential API is easy to use, we cannot create models that share layers, have branches, nor have multiple inputs/outputs. However, we *can* with the Functional API. "
   ]
  },
  {
   "cell_type": "markdown",
   "metadata": {},
   "source": [
    "#### TO DO: Part 1 Questions\n",
    "You may consult Tensorflow documentation and online sources for any of the questions below. <br>\n",
    "a) Describe the architecture of *seq_model* above. (ie. how many/what types of layers? what is a dense? flatten?) <br>\n",
    "\n",
    "The model's \"Flatten\" layer flattens the image inputs. Without it, there would be an error about the shape of the data. (Rule of Thumb: first layer of network should have the same shape as your input data) The model represents a neural network with three densely connected layers, with 256, 128, and 10 neurons respectively. Densely connected layers are fully connected neural network layers and implement the operation *activation(dot(input, kernel) + bias)*. \n",
    "\n",
    "b) What happens if you do not specify an activation function for any one of the dense layers? <br>\n",
    "\n",
    "If nothing is specified, then no activation is applied. (ie. \"linear activation\")\n",
    "\n",
    "c) The three dense layers in *seq_model* have 200960, 32896, and 1290 trainable parameters respectively. Based on your knowledge of densely connected neural networks, explain how these numbers are derived. <br> \n",
    "\n",
    "They are derived from the number of weight and bias parameters. (In terms of matrix multiplication, an (n x b) dimensional matrix multiplied by a (b x a) dimentional matrix results in a (n x a) dimentional matrix. \"None\" represents n because the model does not know the size of the dataset until it is fed into it. <br> \n",
    "200960 = (784 * 256) + 256 <br>\n",
    "32896 = (256 * 128) + 128 <br>\n",
    "1290 = (128 * 10) + 10 <br>\n",
    "\n",
    "d) Why is the loss function sparse categorical crossentropy rather than just categorical crossentropy? <br>\n",
    "\n",
    "Lables are integer values, rather than one hot representations. \n",
    "\n",
    "e) What happens if you do not specify a number of epochs in *fit()*? \n",
    "\n",
    "By default, running *fit()* will train for 1 epoch. "
   ]
  },
  {
   "cell_type": "markdown",
   "metadata": {},
   "source": [
    "## 2. Functional API - Basics\n",
    "\n",
    "*func_model* below contains the same architecture as *seq_model*, but uses the Functional API. Carefully examine the code below and read the comments. Compare it with the Sequential syntax above. What differences and similarities do you notice? "
   ]
  },
  {
   "cell_type": "code",
   "execution_count": 7,
   "metadata": {},
   "outputs": [
    {
     "name": "stdout",
     "output_type": "stream",
     "text": [
      "Model: \"functional_1\"\n",
      "_________________________________________________________________\n",
      "Layer (type)                 Output Shape              Param #   \n",
      "=================================================================\n",
      "input_1 (InputLayer)         [(None, 28, 28, 1)]       0         \n",
      "_________________________________________________________________\n",
      "conv2d_2 (Conv2D)            (None, 26, 26, 16)        160       \n",
      "_________________________________________________________________\n",
      "max_pooling2d_2 (MaxPooling2 (None, 13, 13, 16)        0         \n",
      "_________________________________________________________________\n",
      "conv2d_3 (Conv2D)            (None, 11, 11, 32)        4640      \n",
      "_________________________________________________________________\n",
      "max_pooling2d_3 (MaxPooling2 (None, 5, 5, 32)          0         \n",
      "_________________________________________________________________\n",
      "flatten_1 (Flatten)          (None, 800)               0         \n",
      "_________________________________________________________________\n",
      "dense_3 (Dense)              (None, 256)               205056    \n",
      "_________________________________________________________________\n",
      "dense_4 (Dense)              (None, 128)               32896     \n",
      "_________________________________________________________________\n",
      "dense_5 (Dense)              (None, 10)                1290      \n",
      "=================================================================\n",
      "Total params: 244,042\n",
      "Trainable params: 244,042\n",
      "Non-trainable params: 0\n",
      "_________________________________________________________________\n"
     ]
    }
   ],
   "source": [
    "from tensorflow.keras.layers import Input\n",
    "from tensorflow.keras.models import Model \n",
    "\n",
    "# define input tensor\n",
    "input_layer = Input(shape = (28, 28, 1))\n",
    "\n",
    "# stack layers using the syntax: current_layer()(previous_layer)\n",
    "conv1 = Conv2D(16, (3, 3), activation=\"relu\")(input_layer)\n",
    "mp1 = MaxPooling2D(2, 2)(conv1)\n",
    "conv2 = Conv2D(32, (3, 3), activation=\"relu\")(mp1)\n",
    "mp2 = MaxPooling2D(2, 2)(conv2)\n",
    "flattened = Flatten()(mp2)\n",
    "fc1 = Dense(256, activation = \"relu\")(flattened)\n",
    "fc2 = Dense(128, activation = \"relu\")(fc1)\n",
    "predictions = Dense(10, activation = \"softmax\")(fc2)\n",
    "\n",
    "# define model object -- specify input and outputs\n",
    "func_model = Model(inputs = [input_layer], outputs = [predictions])\n",
    "\n",
    "# displays model layers (+ layer (type), output shape, param #)\n",
    "func_model.summary()"
   ]
  },
  {
   "cell_type": "markdown",
   "metadata": {},
   "source": [
    "As with the Sequential model, we call the *compile()* method and specify a loss function, optimizer, and metrics. Then, call the *fit()* method.  "
   ]
  },
  {
   "cell_type": "code",
   "execution_count": 8,
   "metadata": {},
   "outputs": [
    {
     "name": "stdout",
     "output_type": "stream",
     "text": [
      "Epoch 1/2\n",
      "1500/1500 [==============================] - 13s 9ms/step - loss: 0.7244 - accuracy: 0.7762 - val_loss: 0.2131 - val_accuracy: 0.9355\n",
      "Epoch 2/2\n",
      "1500/1500 [==============================] - 14s 9ms/step - loss: 0.1548 - accuracy: 0.9518 - val_loss: 0.1202 - val_accuracy: 0.9647\n"
     ]
    }
   ],
   "source": [
    "func_model.compile(loss = \"sparse_categorical_crossentropy\", \n",
    "                   optimizer = \"sgd\", \n",
    "                   metrics = [\"accuracy\"])\n",
    "\n",
    "func_history = func_model.fit(x_train, \n",
    "                              y_train, \n",
    "                              epochs = 2, \n",
    "                              validation_data = (x_valid, y_valid))"
   ]
  },
  {
   "cell_type": "markdown",
   "metadata": {},
   "source": [
    "Finally, we evaluate the model on the test set. "
   ]
  },
  {
   "cell_type": "code",
   "execution_count": 9,
   "metadata": {},
   "outputs": [
    {
     "name": "stdout",
     "output_type": "stream",
     "text": [
      "313/313 [==============================] - 1s 3ms/step - loss: 12.1366 - accuracy: 0.9690\n",
      "train loss: 12.137\n",
      "train accuracy: 96.900%\n"
     ]
    }
   ],
   "source": [
    "# returns loss value & metrics values for model in test mode (default batchsize is 32)\n",
    "test_loss, test_accuracy = func_model.evaluate(x_test, y_test)\n",
    "print(f'train loss: {test_loss:.3f}')\n",
    "print(f'train accuracy: {100 * test_accuracy:.3f}%')"
   ]
  },
  {
   "cell_type": "markdown",
   "metadata": {},
   "source": [
    "In summary, the general steps to constructing a model using the Functional API are: <br>\n",
    "1. explicitly defining the input layer\n",
    "2. defining model layers, connecting each layer using Python functional syntax\n",
    "3. defining the model by calling the model object and giving it the input and output layers\n",
    "4. compiling --> fitting (several iterations) --> evaluating\n",
    "\n",
    "#### TO DO: Part 2 Questions \n",
    "You may consult Tensorflow documentation and online sources for the questions below. <br>\n",
    "a) In the context of modeling, what are the advantage(s) of using the functional syntax? <br>\n",
    "\n",
    "Functional syntax gives you more flexibility with customizing deep learning models. For example, you can have multiple inputs and/or multiple outputs and parallel layers. \n",
    "\n",
    "b) Notice that when defining the model object, the parameter names are plural (inputs vs input, outputs vs output). Why is this the case? <br>\n",
    "\n",
    "Parameter names are plural because it can expect multiple inputs or outputs in a list. \n",
    "\n",
    "c) Refit either *seq_model* or *func_model*, but with epochs = 15. Then evaluate the corresponding metrics in the following cell and plot two double-line graphs. You should color code your lines and import any necessary libraries: <br>\n",
    "1. train & validation loss for every epoch \n",
    "2. train & validation accuracy for every epoch  \n",
    "\n",
    "Based on your graph(s), at how many epochs would you stop training? ( in section 3, you will work with callbacks for early stopping once a desired metric value is reached! ) <br>\n",
    "\n",
    "(answer varies) "
   ]
  },
  {
   "cell_type": "code",
   "execution_count": 10,
   "metadata": {},
   "outputs": [
    {
     "name": "stdout",
     "output_type": "stream",
     "text": [
      "<class 'dict'> <class 'dict'>\n"
     ]
    },
    {
     "data": {
      "image/png": "[encoded data removed]",
      "text/plain": [
       "<Figure size 432x288 with 1 Axes>"
      ]
     },
     "metadata": {
      "needs_background": "light"
     },
     "output_type": "display_data"
    },
    {
     "data": {
      "image/png": "[encoded data removed]",
      "text/plain": [
       "<Figure size 432x288 with 1 Axes>"
      ]
     },
     "metadata": {
      "needs_background": "light"
     },
     "output_type": "display_data"
    }
   ],
   "source": [
    "# select one\n",
    "seq_metrics = seq_history.history\n",
    "func_metrics = func_history.history\n",
    "\n",
    "print(type(seq_metrics), type(func_metrics))\n",
    "\n",
    "\"\"\" ### your code below ### \"\"\"\n",
    "import matplotlib.pyplot as plt\n",
    "\n",
    "train_loss, val_loss = seq_metrics['loss'], seq_metrics['val_loss']\n",
    "train_acc, val_acc = seq_metrics['accuracy'], seq_metrics['val_accuracy']\n",
    "\n",
    "plt.plot(train_loss)\n",
    "plt.plot(val_loss)\n",
    "plt.title('Loss per Epoch')\n",
    "plt.legend(('train', 'valid'))\n",
    "plt.show()\n",
    "\n",
    "plt.plot(train_acc)\n",
    "plt.plot(val_acc)\n",
    "plt.title('Loss per Epoch')\n",
    "plt.legend(('train', 'valid'))\n",
    "plt.show()"
   ]
  },
  {
   "cell_type": "markdown",
   "metadata": {},
   "source": [
    "## 3. Callbacks"
   ]
  },
  {
   "cell_type": "markdown",
   "metadata": {},
   "source": [
    "When fitting your model with a specified number of epochs, you can automate the prevention of further training when certain conditions are met -- ex. when accuracy or loss reaches a certain threshold, when accuracy hasn't improved after a specified number of epochs, etc. \n",
    "\n",
    "The training loop supports *callbacks* such that after every epoch, there is a callback to a code function that evaluates your metrics and decides whether to continue or stop training. \n",
    "\n",
    "Carefully examine the code and associated comments below. "
   ]
  },
  {
   "cell_type": "code",
   "execution_count": 20,
   "metadata": {},
   "outputs": [
    {
     "name": "stdout",
     "output_type": "stream",
     "text": [
      "Epoch 1/10\n",
      "1500/1500 [==============================] - 1s 986us/step - loss: 0.7020 - accuracy: 0.8259\n",
      "Epoch 2/10\n",
      "1500/1500 [==============================] - 1s 850us/step - loss: 0.3548 - accuracy: 0.9017\n",
      "Epoch 3/10\n",
      "1500/1500 [==============================] - 1s 778us/step - loss: 0.3010 - accuracy: 0.9155\n",
      "Epoch 4/10\n",
      "1500/1500 [==============================] - 1s 782us/step - loss: 0.2691 - accuracy: 0.9258\n",
      "Epoch 5/10\n",
      "1492/1500 [============================>.] - ETA: 0s - loss: 0.2451 - accuracy: 0.9325\n",
      "At least 93% training accuracy reached! Training stopped.\n",
      "1500/1500 [==============================] - 1s 813us/step - loss: 0.2451 - accuracy: 0.9325\n"
     ]
    }
   ],
   "source": [
    "# imports abstract base class used to build new callbacks\n",
    "from tensorflow.keras.callbacks import Callback\n",
    "\n",
    "class myCallback(Callback): \n",
    "    # on_epoch_end -- called whenever an epoch ends\n",
    "    # sends a log object that contains information about the current training state\n",
    "    def on_epoch_end(self, epoch, logs = {}): \n",
    "        # queries the training accuracy metric, checking if it is greater than or equal to 0.93\n",
    "        if (logs.get('accuracy') >= 0.93): \n",
    "            print(\"\\nAt least 93% training accuracy reached! Training stopped.\")\n",
    "            self.model.stop_training = True\n",
    "            \n",
    "# class instantiation \n",
    "callbacks = myCallback()\n",
    "\n",
    "# creates new Sequential model \n",
    "def create_model(): \n",
    "    model = Sequential([\n",
    "        Flatten(input_shape=(28, 28)), \n",
    "        Dense(256, activation=\"relu\"), \n",
    "        Dense(10, activation=\"softmax\")\n",
    "    ])\n",
    "    model.compile(loss=\"sparse_categorical_crossentropy\",\n",
    "                  optimizer=\"sgd\", \n",
    "                  metrics=[\"accuracy\"])\n",
    "    return model\n",
    "\n",
    "that_model = create_model()\n",
    "that_model.fit(x_train, \n",
    "               y_train, \n",
    "               epochs = 10,\n",
    "               # use the callbacks parameter to pass the instance above in a list\n",
    "               callbacks = [callbacks]);"
   ]
  },
  {
   "cell_type": "markdown",
   "metadata": {},
   "source": [
    "#### TO DO: Callbacks Exercise\n",
    "\n",
    "Refit *func_model* such that the classifier trains to a training loss of 0.2 or below -- training should stop once training loss is at or below 0.2. \n",
    "\n",
    "Print \"0.2 training loss reached! Training stopped\" when desired loss is reached. "
   ]
  },
  {
   "cell_type": "code",
   "execution_count": 21,
   "metadata": {},
   "outputs": [
    {
     "name": "stdout",
     "output_type": "stream",
     "text": [
      "Epoch 1/20\n",
      "1500/1500 [==============================] - 2s 2ms/step - loss: 0.6881 - accuracy: 0.8316 - val_loss: 0.3830 - val_accuracy: 0.8971\n",
      "Epoch 2/20\n",
      "1500/1500 [==============================] - 1s 941us/step - loss: 0.3490 - accuracy: 0.9031 - val_loss: 0.3128 - val_accuracy: 0.9130\n",
      "Epoch 3/20\n",
      "1500/1500 [==============================] - 1s 880us/step - loss: 0.2972 - accuracy: 0.9162 - val_loss: 0.2771 - val_accuracy: 0.9221\n",
      "Epoch 4/20\n",
      "1500/1500 [==============================] - 1s 894us/step - loss: 0.2656 - accuracy: 0.9254 - val_loss: 0.2521 - val_accuracy: 0.9292\n",
      "Epoch 5/20\n",
      "1500/1500 [==============================] - 1s 893us/step - loss: 0.2424 - accuracy: 0.9319 - val_loss: 0.2338 - val_accuracy: 0.9348\n",
      "Epoch 6/20\n",
      "1500/1500 [==============================] - 1s 877us/step - loss: 0.2236 - accuracy: 0.9373 - val_loss: 0.2187 - val_accuracy: 0.9390\n",
      "Epoch 7/20\n",
      "1500/1500 [==============================] - 1s 903us/step - loss: 0.2079 - accuracy: 0.9418 - val_loss: 0.2061 - val_accuracy: 0.9423\n",
      "Epoch 8/20\n",
      "1435/1500 [===========================>..] - ETA: 0s - loss: 0.1947 - accuracy: 0.9452\n",
      "0.2 training loss reached! Training stopped\n",
      "1500/1500 [==============================] - 1s 923us/step - loss: 0.1946 - accuracy: 0.9454 - val_loss: 0.1944 - val_accuracy: 0.9462\n"
     ]
    }
   ],
   "source": [
    "class myCallback(Callback):\n",
    "    def on_epoch_end(self, epoch, logs = {}): \n",
    "        if (logs.get('loss') <= 0.2): \n",
    "            print(\"\\n0.2 training loss reached! Training stopped\")\n",
    "            self.model.stop_training = True\n",
    "            \n",
    "callbacks = myCallback()\n",
    "\n",
    "this_model = create_model()\n",
    "this_model.fit(x_train, y_train, epochs = 20, validation_data = (x_valid, y_valid), callbacks = [callbacks]);"
   ]
  },
  {
   "cell_type": "markdown",
   "metadata": {},
   "source": [
    "#### To Do: Callbacks Debugging\n",
    "\n",
    "The code below attempts to stop training once 97% validation accuracy is reached. However, there seems to be a TypeError. (TypeError: '>=' not supported between instances of 'NoneType' and 'float') Figure out why this is the case.\n",
    "\n",
    "Solution: add validation_data = (x_valid, y_valid) to *fit()*"
   ]
  },
  {
   "cell_type": "code",
   "execution_count": null,
   "metadata": {},
   "outputs": [],
   "source": [
    "class myCallback(Callback): \n",
    "    def on_epoch_end(self, epoch, logs = {}): \n",
    "        if (logs.get('val_accuracy') >= 0.97): \n",
    "            print(\"\\nValidation Accuracy of 97% reached. Training Stopped.\")\n",
    "            self.model.stop_training = True\n",
    "            \n",
    "callbacks = myCallback()\n",
    "fixme_model = create_model()\n",
    "fixme_model.fit(x_train, y_train, epochs=20, validation_data = (x_valid, y_valid), callbacks = [callbacks])"
   ]
  },
  {
   "cell_type": "markdown",
   "metadata": {},
   "source": [
    "## 4. Functional API -- Inception Network\n",
    "\n",
    "As mentioned in section 2, the Functional API allows one to create layers that are impossible with the Sequential API -- ex. parallel layers, concatenations, multiple inputs/ouputs etc. This section explores such layers with functional syntax, and focuses on implementing the following Inception Network. \n",
    "\n",
    "<img src=\"inception.png\">\n",
    "\n",
    "An arrow leaving layer *x* and pointing towards layer *y* means that layer *y* follows layer *x*. Notice that several arrows leaving from the same layer indicates **branching** and several arrows pointing to the same layer indicates a **concatenation**. Do you notice any repetition in the graph above? The same inception module is applied twice!\n",
    "\n",
    "#### TO DO: Coding the Inception Module\n",
    "The two code cells below implement the inception network in the image above -- fill in *pass* with the correct code. Your clues are all in the image above and code below -- use your knowledge of convolutional neural networks!! "
   ]
  },
  {
   "cell_type": "code",
   "execution_count": 18,
   "metadata": {},
   "outputs": [],
   "source": [
    "from tensorflow.keras.layers import concatenate\n",
    "\n",
    "def inception_mod(input_layer, br1, br2_in, br2_out, br3_in, br3_out, br4_out):\n",
    "    # 3x3 convolution\n",
    "    conv3 = Conv2D(br2_in, (1, 1), padding=\"same\", activation=\"relu\")(input_layer)\n",
    "    conv3 = Conv2D(br2_out, (3, 3), padding=\"same\", activation=\"relu\")(conv3)\n",
    "    # 5x5 convolution \n",
    "    conv5 = Conv2D(br3_in, (1, 1), padding=\"same\", activation=\"relu\")(input_layer)\n",
    "    conv5 = Conv2D(br3_out, (5, 5), padding = \"same\", activation=\"relu\")(conv5)\n",
    "    # 3x3 max pool\n",
    "    pool3 = MaxPooling2D((3, 3), strides=(1, 1), padding=\"same\")(input_layer)\n",
    "    pool3 = Conv2D(br4_out, (1, 1), padding=\"same\", activation=\"relu\")(pool3)\n",
    "    # 1x1 convolution\n",
    "    conv1 = Conv2D(br1, (1, 1), padding=\"same\", activation=\"relu\")(input_layer)\n",
    "    # concatenation\n",
    "    return concatenate([conv1, conv3, conv5, pool3], axis = -1)"
   ]
  },
  {
   "cell_type": "code",
   "execution_count": 19,
   "metadata": {},
   "outputs": [
    {
     "name": "stdout",
     "output_type": "stream",
     "text": [
      "Model: \"functional_3\"\n",
      "__________________________________________________________________________________________________\n",
      "Layer (type)                    Output Shape         Param #     Connected to                     \n",
      "==================================================================================================\n",
      "input_3 (InputLayer)            [(None, 256, 256, 3) 0                                            \n",
      "__________________________________________________________________________________________________\n",
      "conv2d_10 (Conv2D)              (None, 256, 256, 96) 384         input_3[0][0]                    \n",
      "__________________________________________________________________________________________________\n",
      "conv2d_12 (Conv2D)              (None, 256, 256, 16) 64          input_3[0][0]                    \n",
      "__________________________________________________________________________________________________\n",
      "max_pooling2d_5 (MaxPooling2D)  (None, 256, 256, 3)  0           input_3[0][0]                    \n",
      "__________________________________________________________________________________________________\n",
      "conv2d_15 (Conv2D)              (None, 256, 256, 64) 256         input_3[0][0]                    \n",
      "__________________________________________________________________________________________________\n",
      "conv2d_11 (Conv2D)              (None, 256, 256, 128 110720      conv2d_10[0][0]                  \n",
      "__________________________________________________________________________________________________\n",
      "conv2d_13 (Conv2D)              (None, 256, 256, 32) 12832       conv2d_12[0][0]                  \n",
      "__________________________________________________________________________________________________\n",
      "conv2d_14 (Conv2D)              (None, 256, 256, 32) 128         max_pooling2d_5[0][0]            \n",
      "__________________________________________________________________________________________________\n",
      "concatenate (Concatenate)       (None, 256, 256, 256 0           conv2d_15[0][0]                  \n",
      "                                                                 conv2d_11[0][0]                  \n",
      "                                                                 conv2d_13[0][0]                  \n",
      "                                                                 conv2d_14[0][0]                  \n",
      "__________________________________________________________________________________________________\n",
      "conv2d_16 (Conv2D)              (None, 256, 256, 128 32896       concatenate[0][0]                \n",
      "__________________________________________________________________________________________________\n",
      "conv2d_18 (Conv2D)              (None, 256, 256, 32) 8224        concatenate[0][0]                \n",
      "__________________________________________________________________________________________________\n",
      "max_pooling2d_6 (MaxPooling2D)  (None, 256, 256, 256 0           concatenate[0][0]                \n",
      "__________________________________________________________________________________________________\n",
      "conv2d_21 (Conv2D)              (None, 256, 256, 128 32896       concatenate[0][0]                \n",
      "__________________________________________________________________________________________________\n",
      "conv2d_17 (Conv2D)              (None, 256, 256, 192 221376      conv2d_16[0][0]                  \n",
      "__________________________________________________________________________________________________\n",
      "conv2d_19 (Conv2D)              (None, 256, 256, 96) 76896       conv2d_18[0][0]                  \n",
      "__________________________________________________________________________________________________\n",
      "conv2d_20 (Conv2D)              (None, 256, 256, 64) 16448       max_pooling2d_6[0][0]            \n",
      "__________________________________________________________________________________________________\n",
      "concatenate_1 (Concatenate)     (None, 256, 256, 480 0           conv2d_21[0][0]                  \n",
      "                                                                 conv2d_17[0][0]                  \n",
      "                                                                 conv2d_19[0][0]                  \n",
      "                                                                 conv2d_20[0][0]                  \n",
      "==================================================================================================\n",
      "Total params: 513,120\n",
      "Trainable params: 513,120\n",
      "Non-trainable params: 0\n",
      "__________________________________________________________________________________________________\n"
     ]
    }
   ],
   "source": [
    "input_layer = Input(shape=(256, 256, 3))\n",
    "\n",
    "module1 = inception_mod(input_layer, 64, 96, 128, 16, 32, 32)\n",
    "module2 = inception_mod(module1, 128, 128, 192, 32, 96, 64)\n",
    "\n",
    "model = Model(inputs = input_layer, outputs = module2)\n",
    "model.summary()"
   ]
  }
 ],
 "metadata": {
  "kernelspec": {
   "display_name": "Python 3",
   "language": "python",
   "name": "python3"
  },
  "language_info": {
   "codemirror_mode": {
    "name": "ipython",
    "version": 3
   },
   "file_extension": ".py",
   "mimetype": "text/x-python",
   "name": "python",
   "nbconvert_exporter": "python",
   "pygments_lexer": "ipython3",
   "version": "3.8.3"
  }
 },
 "nbformat": 4,
 "nbformat_minor": 4
}
