{
 "cells": [
  {
   "cell_type": "markdown",
   "metadata": {},
   "source": [
    "# Final Project: Bone Fracture Image Classification\n",
    "\n",
    "For this final project, you will be using Tensorflow/Keras wrapper OR Pytorch to implement a binary classification algorithm. \n",
    "\n",
    "Data: https://drive.google.com/file/d/1wnsvPpJ01ZnFk6IEf5m1m1vv7ICbXzQa/view?usp=sharing\n",
    "\n",
    "**Tensorflow/Keras** *Strict Requirements: <br>*\n",
    "A. Model must be constructed from scratch using Tensorflow. Pre-trained models are not allowed. <br>\n",
    "B. Must use tensorflow callbacks to save the model, and to provide two color-coded visualizations: 1) training and validation accuracies per epoch, 2) training and validation losses per epoch <br> (read about tensorflow callbacks prior to training your model) \n",
    "\n",
    "**Pytorch** *Strict Requirements: <br>*"
   ]
  },
  {
   "cell_type": "code",
   "execution_count": null,
   "metadata": {},
   "outputs": [],
   "source": [
    "my_model = pass"
   ]
  },
  {
   "cell_type": "code",
   "execution_count": null,
   "metadata": {},
   "outputs": [],
   "source": []
  }
 ],
 "metadata": {
  "kernelspec": {
   "display_name": "Python 3",
   "language": "python",
   "name": "python3"
  },
  "language_info": {
   "codemirror_mode": {
    "name": "ipython",
    "version": 3
   },
   "file_extension": ".py",
   "mimetype": "text/x-python",
   "name": "python",
   "nbconvert_exporter": "python",
   "pygments_lexer": "ipython3",
   "version": "3.8.3"
  }
 },
 "nbformat": 4,
 "nbformat_minor": 4
}
