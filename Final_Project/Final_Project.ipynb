{
 "cells": [
  {
   "cell_type": "markdown",
   "metadata": {},
   "source": [
    "# Final Project: Bone Fracture Image Classification\n",
    "\n",
    "For this final project, you will be implementing a binary classification model that classifies, given an image of a humerus bone, whether it is fractured or normal. \n",
    "\n",
    "The preprocessed data can be found here: https://drive.google.com/file/d/1wnsvPpJ01ZnFk6IEf5m1m1vv7ICbXzQa/view?usp=sharing\n",
    "\n",
    "You may choose to use either Tensorflow/Keras or Pytorch to train your model. \n",
    "\n",
    "**Tensorflow/Keras** *Strict Requirements: <br>*\n",
    "A. Model layers must be customized. Pre-trained models are **not** allowed! <br>\n",
    "B. Use the *.history* attribute to create two color-coded visualizations: 1) training and validation accuracies per epoch, 2) training and validation losses per epoch  \n",
    "C. (optional) Use Keras callbacks for early stopping. \n",
    "\n",
    "**Pytorch** *Strict Requirements: <br>*\n",
    "A. Model must be constructed from scratch using PyTorch. Pre-trained models are **not** allowed.\n",
    "B. Must implement two **data augmentations**, write **custom datasets**.\n",
    "C. You can load any models that you want.\n",
    "D. Perform Hyperparameter Tuning.\n",
    "\n",
    "**Some tips before you get started**:\n",
    "    - Loading the dataset: https://stackoverflow.com/questions/35067957/how-to-read-pickle-file\n",
    "    - Refer to Assignment 2 to help you out with writing this project from scratch.\n",
    "    - Don't worry if your accuracy is low; it's alright. The exercise is to have you implement something from scratch."
   ]
  },
  {
   "cell_type": "code",
   "execution_count": 1,
   "metadata": {},
   "outputs": [],
   "source": [
    "input_shape = (320, 320, 3)"
   ]
  },
  {
   "cell_type": "code",
   "execution_count": 2,
   "metadata": {},
   "outputs": [],
   "source": [
    "### import necessary modules"
   ]
  },
  {
   "cell_type": "code",
   "execution_count": 3,
   "metadata": {},
   "outputs": [],
   "source": [
    "### load data\n",
    "import pickle\n",
    "# with open('hu_data.pickle', 'rb') as f: \n",
    "#     hu_data = pickle.load(f)\n",
    "# x_train, y_train, x_test, y_test = hu_data"
   ]
  },
  {
   "cell_type": "code",
   "execution_count": null,
   "metadata": {},
   "outputs": [],
   "source": [
    "### work space"
   ]
  },
  {
   "cell_type": "markdown",
   "metadata": {},
   "source": [
    "### Ethical Considerations\n",
    "\n",
    "What are some ethical considerations for implementing a bone fracture classifier? "
   ]
  }
 ],
 "metadata": {
  "kernelspec": {
   "display_name": "Python 3",
   "language": "python",
   "name": "python3"
  },
  "language_info": {
   "codemirror_mode": {
    "name": "ipython",
    "version": 3
   },
   "file_extension": ".py",
   "mimetype": "text/x-python",
   "name": "python",
   "nbconvert_exporter": "python",
   "pygments_lexer": "ipython3",
   "version": "3.8.3"
  }
 },
 "nbformat": 4,
 "nbformat_minor": 4
}
