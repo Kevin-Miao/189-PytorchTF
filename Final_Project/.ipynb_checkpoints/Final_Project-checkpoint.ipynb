{
 "cells": [
  {
   "cell_type": "markdown",
   "metadata": {},
   "source": [
    "# Final Project: Bone Fracture Image Classification\n",
    "\n",
    "For this final project, you will be using Tensorflow/Keras wrapper OR Pytorch to implement a binary classification algorithm. \n",
    "\n",
    "Data: https://drive.google.com/file/d/1wnsvPpJ01ZnFk6IEf5m1m1vv7ICbXzQa/view?usp=sharing\n",
    "\n",
    "**Tensorflow/Keras** *Strict Requirements: <br>*\n",
    "A. Model must be constructed from scratch using Tensorflow. Pre-trained models are not allowed. <br>\n",
    "B. Must use tensorflow callbacks to save the model, and to provide two color-coded visualizations: 1) training and validation accuracies per epoch, 2) training and validation losses per epoch <br> (read about tensorflow callbacks prior to training your model) \n",
    "\n",
    "**Pytorch** *Strict Requirements: <br>*\n",
    "A. Model must be constructed from scratch using PyTorch. Pre-trained models are **not** allowed.\n",
    "B. Must implement two **data augmentations**, write **custom datasets**.\n",
    "C. You can load any models that you want.\n",
    "D. Perform Hyperparameter Tuning.\n",
    "\n",
    "**Some tips before you get started**:\n",
    "    - Loading the dataset: https://stackoverflow.com/questions/35067957/how-to-read-pickle-file\n",
    "    - Follow assignment2ab to help you out with writing this project from scratch.\n",
    "    - Don't worry if your accuracy is too low; it's alright. The exercise is to have you implement something from scratch."
   ]
  },
  {
   "cell_type": "code",
   "execution_count": null,
   "metadata": {},
   "outputs": [],
   "source": [
    "my_model = pass"
   ]
  },
  {
   "cell_type": "markdown",
   "metadata": {},
   "source": [
    "### Ethical Considerations\n",
    "\n",
    "Start thinking about the ethical sidenotes before implementing this model in the clinic."
   ]
  }
 ],
 "metadata": {
  "kernelspec": {
   "display_name": "Python 3",
   "language": "python",
   "name": "python3"
  },
  "language_info": {
   "codemirror_mode": {
    "name": "ipython",
    "version": 3
   },
   "file_extension": ".py",
   "mimetype": "text/x-python",
   "name": "python",
   "nbconvert_exporter": "python",
   "pygments_lexer": "ipython3",
   "version": "3.7.4"
  }
 },
 "nbformat": 4,
 "nbformat_minor": 4
}
