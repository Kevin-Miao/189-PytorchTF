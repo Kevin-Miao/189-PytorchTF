{
 "cells": [
  {
   "cell_type": "markdown",
   "metadata": {},
   "source": [
    "# Tensorflow/Keras Solution\n",
    "\n",
    "One possible solution. "
   ]
  },
  {
   "cell_type": "code",
   "execution_count": 3,
   "metadata": {},
   "outputs": [],
   "source": [
    "from keras.callbacks import ModelCheckpoint\n",
    "from keras.models import Sequential\n",
    "from keras.layers import Conv2D, Dense, MaxPooling2D, Flatten, Dropout, ELU\n",
    "from keras.optimizers import Adam\n",
    "\n",
    "import matplotlib.pyplot as plt"
   ]
  },
  {
   "cell_type": "code",
   "execution_count": 4,
   "metadata": {},
   "outputs": [],
   "source": [
    "model_path = '/gdrive/My Drive/DS4A_Project/MURA-v1.1/models/cnn'\n",
    "model_path += '{epoch:02d}_{accuracy:.4f}_{val_accuracy:.4f}.hdf5'\n",
    "callbacks = [ModelCheckpoint(model_path)]"
   ]
  },
  {
   "cell_type": "code",
   "execution_count": 6,
   "metadata": {},
   "outputs": [
    {
     "name": "stdout",
     "output_type": "stream",
     "text": [
      "Model: \"sequential_1\"\n",
      "_________________________________________________________________\n",
      "Layer (type)                 Output Shape              Param #   \n",
      "=================================================================\n",
      "conv2d_6 (Conv2D)            (None, 316, 316, 32)      2432      \n",
      "_________________________________________________________________\n",
      "elu_8 (ELU)                  (None, 316, 316, 32)      0         \n",
      "_________________________________________________________________\n",
      "max_pooling2d_6 (MaxPooling2 (None, 158, 158, 32)      0         \n",
      "_________________________________________________________________\n",
      "conv2d_7 (Conv2D)            (None, 156, 156, 64)      18496     \n",
      "_________________________________________________________________\n",
      "elu_9 (ELU)                  (None, 156, 156, 64)      0         \n",
      "_________________________________________________________________\n",
      "max_pooling2d_7 (MaxPooling2 (None, 78, 78, 64)        0         \n",
      "_________________________________________________________________\n",
      "conv2d_8 (Conv2D)            (None, 76, 76, 64)        36928     \n",
      "_________________________________________________________________\n",
      "elu_10 (ELU)                 (None, 76, 76, 64)        0         \n",
      "_________________________________________________________________\n",
      "max_pooling2d_8 (MaxPooling2 (None, 38, 38, 64)        0         \n",
      "_________________________________________________________________\n",
      "conv2d_9 (Conv2D)            (None, 36, 36, 96)        55392     \n",
      "_________________________________________________________________\n",
      "elu_11 (ELU)                 (None, 36, 36, 96)        0         \n",
      "_________________________________________________________________\n",
      "max_pooling2d_9 (MaxPooling2 (None, 18, 18, 96)        0         \n",
      "_________________________________________________________________\n",
      "conv2d_10 (Conv2D)           (None, 16, 16, 96)        83040     \n",
      "_________________________________________________________________\n",
      "elu_12 (ELU)                 (None, 16, 16, 96)        0         \n",
      "_________________________________________________________________\n",
      "max_pooling2d_10 (MaxPooling (None, 8, 8, 96)          0         \n",
      "_________________________________________________________________\n",
      "conv2d_11 (Conv2D)           (None, 6, 6, 128)         110720    \n",
      "_________________________________________________________________\n",
      "elu_13 (ELU)                 (None, 6, 6, 128)         0         \n",
      "_________________________________________________________________\n",
      "max_pooling2d_11 (MaxPooling (None, 3, 3, 128)         0         \n",
      "_________________________________________________________________\n",
      "dropout_3 (Dropout)          (None, 3, 3, 128)         0         \n",
      "_________________________________________________________________\n",
      "flatten_1 (Flatten)          (None, 1152)              0         \n",
      "_________________________________________________________________\n",
      "dense_3 (Dense)              (None, 256)               295168    \n",
      "_________________________________________________________________\n",
      "elu_14 (ELU)                 (None, 256)               0         \n",
      "_________________________________________________________________\n",
      "dropout_4 (Dropout)          (None, 256)               0         \n",
      "_________________________________________________________________\n",
      "dense_4 (Dense)              (None, 128)               32896     \n",
      "_________________________________________________________________\n",
      "elu_15 (ELU)                 (None, 128)               0         \n",
      "_________________________________________________________________\n",
      "dropout_5 (Dropout)          (None, 128)               0         \n",
      "_________________________________________________________________\n",
      "dense_5 (Dense)              (None, 1)                 129       \n",
      "=================================================================\n",
      "Total params: 635,201\n",
      "Trainable params: 635,201\n",
      "Non-trainable params: 0\n",
      "_________________________________________________________________\n"
     ]
    }
   ],
   "source": [
    "elu_alpha = 1.8\n",
    "\n",
    "model = Sequential()\n",
    "model.add(Conv2D(32, kernel_size = 5, input_shape = (320, 320, 3)))\n",
    "model.add(ELU(alpha=elu_alpha))\n",
    "model.add(MaxPooling2D())\n",
    "model.add(Conv2D(64, kernel_size = 3))\n",
    "model.add(ELU(alpha=elu_alpha))\n",
    "model.add(MaxPooling2D())\n",
    "model.add(Conv2D(64, kernel_size = 3))\n",
    "model.add(ELU(alpha=elu_alpha))\n",
    "model.add(MaxPooling2D())\n",
    "model.add(Conv2D(96, kernel_size = 3))\n",
    "model.add(ELU(alpha=elu_alpha))\n",
    "model.add(MaxPooling2D())\n",
    "model.add(Conv2D(96, kernel_size = 3))\n",
    "model.add(ELU(alpha=elu_alpha))\n",
    "model.add(MaxPooling2D())\n",
    "model.add(Conv2D(128, kernel_size = 3))\n",
    "model.add(ELU(alpha=elu_alpha))\n",
    "model.add(MaxPooling2D())\n",
    "model.add(Dropout(0.3))\n",
    "model.add(Flatten())\n",
    "model.add(Dense(256))\n",
    "model.add(ELU(alpha=elu_alpha))\n",
    "model.add(Dropout(0.5))\n",
    "model.add(Dense(128))\n",
    "model.add(ELU(alpha=elu_alpha))\n",
    "model.add(Dropout(0.2))\n",
    "model.add(Dense(1, activation = 'sigmoid'))\n",
    "\n",
    "model.compile(optimizer = Adam(lr = 0.00005), \n",
    "              loss = 'binary_crossentropy', \n",
    "              metrics = ['accuracy'])\n",
    "model.summary()"
   ]
  },
  {
   "cell_type": "code",
   "execution_count": 7,
   "metadata": {},
   "outputs": [],
   "source": [
    "def fit_model(model, train_x, train_y, valid_x, valid_y, epochs, callbacks, gen = False): \n",
    "    history = model.fit(train_x, train_y, \n",
    "                        batch_size = 16, \n",
    "                        epochs = epochs, \n",
    "                        callbacks = callbacks, \n",
    "                        validation_data = (valid_x, valid_y))"
   ]
  },
  {
   "cell_type": "code",
   "execution_count": 8,
   "metadata": {},
   "outputs": [],
   "source": [
    "def plot_results(h, suptitle, filename): \n",
    "\n",
    "    def plot(train, val, title, y_label, colors): \n",
    "        plt.plot(train, color = colors[0])\n",
    "        plt.plot(val, color = colors[1])\n",
    "        plt.title(title)\n",
    "        plt.xlabel('Epoch')\n",
    "        plt.ylabel(y_label)\n",
    "        plt.legend(['train', 'validation'])\n",
    "\n",
    "    acc, val_acc = h.history['accuracy'], h.history['val_accuracy']\n",
    "    loss, val_loss = h.history['loss'], h.history['val_loss']\n",
    "\n",
    "    plt.figure(figsize=(7, 10))\n",
    "    plt.suptitle(suptitle, fontsize = 18)\n",
    "    plt.subplot(2, 1, 1)\n",
    "    plot(acc, val_acc, 'Accuracy vs Epoch#', 'Accuracy', ['skyblue', 'indigo'])\n",
    "    plt.subplot(2, 1, 2)\n",
    "    plot(loss, val_loss, 'Loss vs Epoch#', 'Loss', ['gold', 'crimson'])\n",
    "    plt.savefig(filename)"
   ]
  },
  {
   "cell_type": "code",
   "execution_count": null,
   "metadata": {},
   "outputs": [],
   "source": [
    "history = fit_model(model, x_hu_train, y_hu_train, x_hu_test, y_hu_test, 70, callbacks)"
   ]
  },
  {
   "cell_type": "code",
   "execution_count": null,
   "metadata": {},
   "outputs": [],
   "source": [
    "plot_results(history, 'CNN Metrics', 'cnn_metrics.png')"
   ]
  },
  {
   "cell_type": "markdown",
   "metadata": {},
   "source": [
    "# Pytorch Solution\n",
    "\n",
    "One possibe solution. "
   ]
  },
  {
   "cell_type": "code",
   "execution_count": null,
   "metadata": {},
   "outputs": [],
   "source": []
  }
 ],
 "metadata": {
  "kernelspec": {
   "display_name": "Python 3",
   "language": "python",
   "name": "python3"
  },
  "language_info": {
   "codemirror_mode": {
    "name": "ipython",
    "version": 3
   },
   "file_extension": ".py",
   "mimetype": "text/x-python",
   "name": "python",
   "nbconvert_exporter": "python",
   "pygments_lexer": "ipython3",
   "version": "3.8.3"
  }
 },
 "nbformat": 4,
 "nbformat_minor": 4
}
